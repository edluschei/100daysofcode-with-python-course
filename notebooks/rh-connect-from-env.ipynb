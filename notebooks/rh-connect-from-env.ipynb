{
 "cells": [
  {
   "cell_type": "markdown",
   "metadata": {
    "hide_input": true
   },
   "source": [
    "# Sample load creds from env\n",
    "ala https://12factor.net"
   ]
  },
  {
   "cell_type": "code",
   "execution_count": 1,
   "metadata": {
    "hide_input": false
   },
   "outputs": [],
   "source": [
    "import os\n",
    "from envbash import load_envbash\n",
    "import psycopg2 as pg\n",
    "from psycopg2.extras import RealDictCursor\n",
    "import pandas as pd"
   ]
  },
  {
   "cell_type": "code",
   "execution_count": 13,
   "metadata": {},
   "outputs": [],
   "source": [
    "%matplotlib inline\n",
    "import plotly\n",
    "import plotly.plotly as py\n",
    "import plotly.figure_factory as ff\n",
    "from plotly.offline import download_plotlyjs, init_notebook_mode, plot, iplot\n",
    "import cufflinks as cf"
   ]
  },
  {
   "cell_type": "code",
   "execution_count": null,
   "metadata": {},
   "outputs": [],
   "source": [
    "init_notebook(connected=True)\n",
    "# update to use cufflinks offline\n",
    "cf.go_offline()"
   ]
  },
  {
   "cell_type": "code",
   "execution_count": 2,
   "metadata": {},
   "outputs": [],
   "source": [
    "# OS agnostic ref to personal cred file if stored in ~/Dropbox/creds/app-env\n",
    "os.chdir(os.path.join(os.environ[\"HOME\"],\"Dropbox\",\"creds\"))"
   ]
  },
  {
   "cell_type": "code",
   "execution_count": 3,
   "metadata": {},
   "outputs": [],
   "source": [
    "load_envbash(\"app-env\")"
   ]
  },
  {
   "cell_type": "code",
   "execution_count": 4,
   "metadata": {},
   "outputs": [],
   "source": [
    "conn_dict = {\"dbname\":os.environ[\"RH_DB\"],\n",
    "             \"user\":os.environ[\"RH_USER\"],\n",
    "             \"password\":os.environ[\"RH_PWD\"],\n",
    "             \"host\":os.environ[\"RH_HOST\"]}"
   ]
  },
  {
   "cell_type": "code",
   "execution_count": 5,
   "metadata": {},
   "outputs": [],
   "source": [
    "conn = pg.connect(**conn_dict)"
   ]
  },
  {
   "cell_type": "code",
   "execution_count": 6,
   "metadata": {},
   "outputs": [],
   "source": [
    "cur = conn.cursor(cursor_factory=RealDictCursor)\n",
    "cs_types = \"(1)\"\n",
    "query = \"select collection_set_id,collection_set,collection_set_status_id,collection_type_id from md2.vi_collection_sets where product_period_id = 25 and collection_set not ilike '%-OPS_%' and collection_set_status_id in (11,20) and collection_type_id in \" + cs_types;\n",
    "cur.execute(query)\n",
    "markets = cur.fetchall()\n",
    "cur.close()\n",
    "conn.close()"
   ]
  },
  {
   "cell_type": "code",
   "execution_count": 7,
   "metadata": {},
   "outputs": [],
   "source": [
    "df = pd.DataFrame(markets)"
   ]
  },
  {
   "cell_type": "code",
   "execution_count": 8,
   "metadata": {},
   "outputs": [
    {
     "data": {
      "text/html": [
       "<div>\n",
       "<style scoped>\n",
       "    .dataframe tbody tr th:only-of-type {\n",
       "        vertical-align: middle;\n",
       "    }\n",
       "\n",
       "    .dataframe tbody tr th {\n",
       "        vertical-align: top;\n",
       "    }\n",
       "\n",
       "    .dataframe thead th {\n",
       "        text-align: right;\n",
       "    }\n",
       "</style>\n",
       "<table border=\"1\" class=\"dataframe\">\n",
       "  <thead>\n",
       "    <tr style=\"text-align: right;\">\n",
       "      <th></th>\n",
       "      <th>collection_set_id</th>\n",
       "      <th>collection_set</th>\n",
       "      <th>collection_set_status_id</th>\n",
       "      <th>collection_type_id</th>\n",
       "    </tr>\n",
       "  </thead>\n",
       "  <tbody>\n",
       "    <tr>\n",
       "      <th>0</th>\n",
       "      <td>8683</td>\n",
       "      <td>NewYork-NY-Leeloo-Drive_2019-1H</td>\n",
       "      <td>11</td>\n",
       "      <td>1</td>\n",
       "    </tr>\n",
       "    <tr>\n",
       "      <th>1</th>\n",
       "      <td>8676</td>\n",
       "      <td>Chicago-IL-Leeloo-Drive_2019-1H</td>\n",
       "      <td>11</td>\n",
       "      <td>1</td>\n",
       "    </tr>\n",
       "    <tr>\n",
       "      <th>2</th>\n",
       "      <td>8663</td>\n",
       "      <td>Seattle-WA-Leeloo-Drive_2019-1H</td>\n",
       "      <td>11</td>\n",
       "      <td>1</td>\n",
       "    </tr>\n",
       "    <tr>\n",
       "      <th>3</th>\n",
       "      <td>8650</td>\n",
       "      <td>SanAntonio-TX_2019-1H</td>\n",
       "      <td>20</td>\n",
       "      <td>1</td>\n",
       "    </tr>\n",
       "    <tr>\n",
       "      <th>4</th>\n",
       "      <td>8642</td>\n",
       "      <td>Greenville-SC_2019-1H</td>\n",
       "      <td>20</td>\n",
       "      <td>1</td>\n",
       "    </tr>\n",
       "  </tbody>\n",
       "</table>\n",
       "</div>"
      ],
      "text/plain": [
       "   collection_set_id                   collection_set  \\\n",
       "0               8683  NewYork-NY-Leeloo-Drive_2019-1H   \n",
       "1               8676  Chicago-IL-Leeloo-Drive_2019-1H   \n",
       "2               8663  Seattle-WA-Leeloo-Drive_2019-1H   \n",
       "3               8650            SanAntonio-TX_2019-1H   \n",
       "4               8642            Greenville-SC_2019-1H   \n",
       "\n",
       "   collection_set_status_id  collection_type_id  \n",
       "0                        11                   1  \n",
       "1                        11                   1  \n",
       "2                        11                   1  \n",
       "3                        20                   1  \n",
       "4                        20                   1  "
      ]
     },
     "execution_count": 8,
     "metadata": {},
     "output_type": "execute_result"
    }
   ],
   "source": [
    "df.head()"
   ]
  },
  {
   "cell_type": "code",
   "execution_count": 9,
   "metadata": {},
   "outputs": [],
   "source": [
    "conn = pg.connect(**conn_dict)\n",
    "cur = conn.cursor(cursor_factory=RealDictCursor)\n",
    "query = \"select * from reporting.rs_core_test_data_1h19 where collection_set_id = 8650\";\n",
    "cur.execute(query)\n",
    "data = cur.fetchall()\n",
    "cur.close()\n",
    "conn.close()"
   ]
  },
  {
   "cell_type": "code",
   "execution_count": 10,
   "metadata": {},
   "outputs": [],
   "source": [
    "mdf = pd.DataFrame(data)"
   ]
  },
  {
   "cell_type": "code",
   "execution_count": 11,
   "metadata": {},
   "outputs": [
    {
     "data": {
      "text/html": [
       "<div>\n",
       "<style scoped>\n",
       "    .dataframe tbody tr th:only-of-type {\n",
       "        vertical-align: middle;\n",
       "    }\n",
       "\n",
       "    .dataframe tbody tr th {\n",
       "        vertical-align: top;\n",
       "    }\n",
       "\n",
       "    .dataframe thead th {\n",
       "        text-align: right;\n",
       "    }\n",
       "</style>\n",
       "<table border=\"1\" class=\"dataframe\">\n",
       "  <thead>\n",
       "    <tr style=\"text-align: right;\">\n",
       "      <th></th>\n",
       "      <th>0</th>\n",
       "      <th>1</th>\n",
       "    </tr>\n",
       "  </thead>\n",
       "  <tbody>\n",
       "    <tr>\n",
       "      <th>collection_set_id</th>\n",
       "      <td>8650</td>\n",
       "      <td>8650</td>\n",
       "    </tr>\n",
       "    <tr>\n",
       "      <th>collection_area_id</th>\n",
       "      <td>36</td>\n",
       "      <td>36</td>\n",
       "    </tr>\n",
       "    <tr>\n",
       "      <th>collection_area</th>\n",
       "      <td>San Antonio, TX</td>\n",
       "      <td>San Antonio, TX</td>\n",
       "    </tr>\n",
       "    <tr>\n",
       "      <th>collection_set</th>\n",
       "      <td>SanAntonio-TX</td>\n",
       "      <td>SanAntonio-TX</td>\n",
       "    </tr>\n",
       "    <tr>\n",
       "      <th>period</th>\n",
       "      <td>2019-1H</td>\n",
       "      <td>2019-1H</td>\n",
       "    </tr>\n",
       "    <tr>\n",
       "      <th>carrier</th>\n",
       "      <td>AT&amp;T</td>\n",
       "      <td>AT&amp;T</td>\n",
       "    </tr>\n",
       "    <tr>\n",
       "      <th>to_carrier</th>\n",
       "      <td>Sprint</td>\n",
       "      <td>None</td>\n",
       "    </tr>\n",
       "    <tr>\n",
       "      <th>test</th>\n",
       "      <td>sms</td>\n",
       "      <td>download</td>\n",
       "    </tr>\n",
       "    <tr>\n",
       "      <th>test_event_id</th>\n",
       "      <td>123115562</td>\n",
       "      <td>123180586</td>\n",
       "    </tr>\n",
       "    <tr>\n",
       "      <th>device_imei</th>\n",
       "      <td>None</td>\n",
       "      <td>None</td>\n",
       "    </tr>\n",
       "    <tr>\n",
       "      <th>test_cycle</th>\n",
       "      <td>20190319213730</td>\n",
       "      <td>20190320213000</td>\n",
       "    </tr>\n",
       "    <tr>\n",
       "      <th>device_time</th>\n",
       "      <td>2019-03-19 21:43:50.002000</td>\n",
       "      <td>2019-03-20 21:36:35.003000</td>\n",
       "    </tr>\n",
       "    <tr>\n",
       "      <th>latitude</th>\n",
       "      <td>29.596487</td>\n",
       "      <td>29.446530</td>\n",
       "    </tr>\n",
       "    <tr>\n",
       "      <th>longitude</th>\n",
       "      <td>-98.462019</td>\n",
       "      <td>-98.431778</td>\n",
       "    </tr>\n",
       "    <tr>\n",
       "      <th>asu</th>\n",
       "      <td>1</td>\n",
       "      <td>1.000</td>\n",
       "    </tr>\n",
       "    <tr>\n",
       "      <th>tsu</th>\n",
       "      <td>1</td>\n",
       "      <td>1.000</td>\n",
       "    </tr>\n",
       "    <tr>\n",
       "      <th>av_05p</th>\n",
       "      <td>None</td>\n",
       "      <td>0.850</td>\n",
       "    </tr>\n",
       "    <tr>\n",
       "      <th>av_50p</th>\n",
       "      <td>None</td>\n",
       "      <td>0.858</td>\n",
       "    </tr>\n",
       "    <tr>\n",
       "      <th>av_95p</th>\n",
       "      <td>None</td>\n",
       "      <td>0.860</td>\n",
       "    </tr>\n",
       "    <tr>\n",
       "      <th>ts_unit</th>\n",
       "      <td>s</td>\n",
       "      <td>mbps</td>\n",
       "    </tr>\n",
       "    <tr>\n",
       "      <th>tv_05p</th>\n",
       "      <td>None</td>\n",
       "      <td>None</td>\n",
       "    </tr>\n",
       "    <tr>\n",
       "      <th>tv_50p</th>\n",
       "      <td>9.225</td>\n",
       "      <td>78.658</td>\n",
       "    </tr>\n",
       "    <tr>\n",
       "      <th>tv_95p</th>\n",
       "      <td>None</td>\n",
       "      <td>None</td>\n",
       "    </tr>\n",
       "    <tr>\n",
       "      <th>net_types</th>\n",
       "      <td>LTE</td>\n",
       "      <td>LTE</td>\n",
       "    </tr>\n",
       "    <tr>\n",
       "      <th>lte_rsrp</th>\n",
       "      <td>-106.000</td>\n",
       "      <td>-94.667</td>\n",
       "    </tr>\n",
       "    <tr>\n",
       "      <th>lte_rsrq</th>\n",
       "      <td>-13.000</td>\n",
       "      <td>-12.667</td>\n",
       "    </tr>\n",
       "    <tr>\n",
       "      <th>lte_rssnr</th>\n",
       "      <td>2.000</td>\n",
       "      <td>7.800</td>\n",
       "    </tr>\n",
       "    <tr>\n",
       "      <th>non_lte_rssi</th>\n",
       "      <td>None</td>\n",
       "      <td>None</td>\n",
       "    </tr>\n",
       "    <tr>\n",
       "      <th>signal_strength_class</th>\n",
       "      <td>Poor</td>\n",
       "      <td>Good</td>\n",
       "    </tr>\n",
       "    <tr>\n",
       "      <th>lte_rssnr_class</th>\n",
       "      <td>Poor</td>\n",
       "      <td>Good</td>\n",
       "    </tr>\n",
       "    <tr>\n",
       "      <th>failure_type</th>\n",
       "      <td>None</td>\n",
       "      <td>Success</td>\n",
       "    </tr>\n",
       "    <tr>\n",
       "      <th>band</th>\n",
       "      <td>None</td>\n",
       "      <td>None</td>\n",
       "    </tr>\n",
       "    <tr>\n",
       "      <th>bw</th>\n",
       "      <td>None</td>\n",
       "      <td>None</td>\n",
       "    </tr>\n",
       "    <tr>\n",
       "      <th>earfcn</th>\n",
       "      <td>None</td>\n",
       "      <td>None</td>\n",
       "    </tr>\n",
       "    <tr>\n",
       "      <th>indoor</th>\n",
       "      <td>None</td>\n",
       "      <td>None</td>\n",
       "    </tr>\n",
       "    <tr>\n",
       "      <th>business_name</th>\n",
       "      <td>None</td>\n",
       "      <td>None</td>\n",
       "    </tr>\n",
       "    <tr>\n",
       "      <th>address</th>\n",
       "      <td>None</td>\n",
       "      <td>None</td>\n",
       "    </tr>\n",
       "  </tbody>\n",
       "</table>\n",
       "</div>"
      ],
      "text/plain": [
       "                                                0                           1\n",
       "collection_set_id                            8650                        8650\n",
       "collection_area_id                             36                          36\n",
       "collection_area                   San Antonio, TX             San Antonio, TX\n",
       "collection_set                      SanAntonio-TX               SanAntonio-TX\n",
       "period                                    2019-1H                     2019-1H\n",
       "carrier                                      AT&T                        AT&T\n",
       "to_carrier                                 Sprint                        None\n",
       "test                                          sms                    download\n",
       "test_event_id                           123115562                   123180586\n",
       "device_imei                                  None                        None\n",
       "test_cycle                         20190319213730              20190320213000\n",
       "device_time            2019-03-19 21:43:50.002000  2019-03-20 21:36:35.003000\n",
       "latitude                                29.596487                   29.446530\n",
       "longitude                              -98.462019                  -98.431778\n",
       "asu                                             1                       1.000\n",
       "tsu                                             1                       1.000\n",
       "av_05p                                       None                       0.850\n",
       "av_50p                                       None                       0.858\n",
       "av_95p                                       None                       0.860\n",
       "ts_unit                                         s                        mbps\n",
       "tv_05p                                       None                        None\n",
       "tv_50p                                      9.225                      78.658\n",
       "tv_95p                                       None                        None\n",
       "net_types                                     LTE                         LTE\n",
       "lte_rsrp                                 -106.000                     -94.667\n",
       "lte_rsrq                                  -13.000                     -12.667\n",
       "lte_rssnr                                   2.000                       7.800\n",
       "non_lte_rssi                                 None                        None\n",
       "signal_strength_class                        Poor                        Good\n",
       "lte_rssnr_class                              Poor                        Good\n",
       "failure_type                                 None                     Success\n",
       "band                                         None                        None\n",
       "bw                                           None                        None\n",
       "earfcn                                       None                        None\n",
       "indoor                                       None                        None\n",
       "business_name                                None                        None\n",
       "address                                      None                        None"
      ]
     },
     "execution_count": 11,
     "metadata": {},
     "output_type": "execute_result"
    }
   ],
   "source": [
    "mdf[0:2].T"
   ]
  },
  {
   "cell_type": "code",
   "execution_count": 20,
   "metadata": {},
   "outputs": [],
   "source": [
    "ssdls = mdf[(mdf['carrier']=='Verizon') & (mdf['test']=='download')]"
   ]
  },
  {
   "cell_type": "code",
   "execution_count": 22,
   "metadata": {},
   "outputs": [
    {
     "name": "stderr",
     "output_type": "stream",
     "text": [
      "/Users/edluschei/GitHub/100daysofcode-with-python-course/venv/lib/python3.7/site-packages/IPython/core/display.py:689: UserWarning:\n",
      "\n",
      "Consider using IPython.display.IFrame instead\n",
      "\n"
     ]
    },
    {
     "data": {
      "text/html": [
       "<iframe id=\"igraph\" scrolling=\"no\" style=\"border:none;\" seamless=\"seamless\" src=\"https://plot.ly/~ed.luschei/6.embed\" height=\"525px\" width=\"100%\"></iframe>"
      ],
      "text/plain": [
       "<chart_studio.tools.PlotlyDisplay object>"
      ]
     },
     "execution_count": 22,
     "metadata": {},
     "output_type": "execute_result"
    }
   ],
   "source": [
    "ssdls.iplot(kind='scatter', x='lte_rsrp', y='tv_50p', mode='markers')"
   ]
  },
  {
   "cell_type": "code",
   "execution_count": null,
   "metadata": {},
   "outputs": [],
   "source": []
  }
 ],
 "metadata": {
  "kernelspec": {
   "display_name": "venv",
   "language": "python",
   "name": "venv"
  },
  "toc": {
   "base_numbering": 1,
   "nav_menu": {},
   "number_sections": true,
   "sideBar": true,
   "skip_h1_title": false,
   "title_cell": "Table of Contents",
   "title_sidebar": "Contents",
   "toc_cell": false,
   "toc_position": {},
   "toc_section_display": true,
   "toc_window_display": false
  },
  "varInspector": {
   "cols": {
    "lenName": 16,
    "lenType": 16,
    "lenVar": 40
   },
   "kernels_config": {
    "python": {
     "delete_cmd_postfix": "",
     "delete_cmd_prefix": "del ",
     "library": "var_list.py",
     "varRefreshCmd": "print(var_dic_list())"
    },
    "r": {
     "delete_cmd_postfix": ") ",
     "delete_cmd_prefix": "rm(",
     "library": "var_list.r",
     "varRefreshCmd": "cat(var_dic_list()) "
    }
   },
   "types_to_exclude": [
    "module",
    "function",
    "builtin_function_or_method",
    "instance",
    "_Feature"
   ],
   "window_display": false
  }
 },
 "nbformat": 4,
 "nbformat_minor": 2
}
