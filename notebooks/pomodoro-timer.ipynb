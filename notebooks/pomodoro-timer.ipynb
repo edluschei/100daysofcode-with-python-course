{
 "cells": [
  {
   "cell_type": "markdown",
   "metadata": {},
   "source": [
    "Pomodora Timer Exercise - 100 days of code days 1-3"
   ]
  },
  {
   "cell_type": "code",
   "execution_count": 91,
   "metadata": {},
   "outputs": [],
   "source": [
    "%matplotlib inline\n",
    "\n",
    "import matplotlib\n",
    "import numpy as np\n",
    "import matplotlib.pyplot as plt"
   ]
  },
  {
   "cell_type": "code",
   "execution_count": 65,
   "metadata": {},
   "outputs": [],
   "source": [
    "from datetime import datetime\n",
    "from datetime import timedelta\n",
    "from datetime import date\n",
    "import pandas as pd"
   ]
  },
  {
   "cell_type": "code",
   "execution_count": 110,
   "metadata": {},
   "outputs": [],
   "source": [
    "def make_pomlist(duration):\n",
    "    duration_min = duration.total_seconds()/60\n",
    "    time_remaining = duration_min\n",
    "    current_time = datetime.now()\n",
    "    schedule = []\n",
    "    n_sessions = 0\n",
    "    while time_remaining > 0:\n",
    "        n_sessions += 1\n",
    "        if time_remaining > 25:\n",
    "            session_time = 25\n",
    "            time_remaining -= 25\n",
    "            schedule.append([n_sessions,\"study\",str(current_time),str(current_time + timedelta(minutes=25)),str(25) + \" min\"])\n",
    "            current_time = current_time + timedelta(minutes=25)\n",
    "        else:\n",
    "            session_time = time_remaining\n",
    "            time_remaining = 0\n",
    "            schedule.append([n_sessions,\"study\",str(current_time),str(current_time + timedelta(minutes=session_time)), str(session_time) + \" min\"])\n",
    "            break\n",
    "        if n_sessions % 4 != 0:\n",
    "            break_time = 5\n",
    "        else:\n",
    "            break_time = 30\n",
    "        if time_remaining - break_time > 0:\n",
    "            time_remaining -= break_time\n",
    "            schedule.append([n_sessions,\"breaktime\",str(current_time),str(current_time + timedelta(minutes=break_time)),str(break_time) + \" min\"])\n",
    "            current_time = current_time + timedelta(minutes=break_time)\n",
    "        else:\n",
    "            break_time = time_remaining\n",
    "            time_remaining = 0\n",
    "            schedule.append([n_sessions,\"breaktime\",str(current_time),str(current_time + timedelta(minutes=break_time)), str(break_time) + \" min\"])\n",
    "            break\n",
    "    return schedule"
   ]
  },
  {
   "cell_type": "code",
   "execution_count": 111,
   "metadata": {},
   "outputs": [],
   "source": [
    "schedule = make_pomlist(timedelta(hours=4, minutes=30, seconds=45))"
   ]
  },
  {
   "cell_type": "code",
   "execution_count": 117,
   "metadata": {},
   "outputs": [],
   "source": [
    "df = pd.DataFrame(schedule, columns=['Task','Resource','Start','Finish','Duration'])"
   ]
  },
  {
   "cell_type": "code",
   "execution_count": 118,
   "metadata": {},
   "outputs": [
    {
     "name": "stdout",
     "output_type": "stream",
     "text": [
      " Task   Resource                       Start                      Finish   Duration\n",
      "    1      study  2019-05-12 16:10:15.785987  2019-05-12 16:35:15.785987     25 min\n",
      "    1  breaktime  2019-05-12 16:35:15.785987  2019-05-12 16:40:15.785987      5 min\n",
      "    2      study  2019-05-12 16:40:15.785987  2019-05-12 17:05:15.785987     25 min\n",
      "    2  breaktime  2019-05-12 17:05:15.785987  2019-05-12 17:10:15.785987      5 min\n",
      "    3      study  2019-05-12 17:10:15.785987  2019-05-12 17:35:15.785987     25 min\n",
      "    3  breaktime  2019-05-12 17:35:15.785987  2019-05-12 17:40:15.785987      5 min\n",
      "    4      study  2019-05-12 17:40:15.785987  2019-05-12 18:05:15.785987     25 min\n",
      "    4  breaktime  2019-05-12 18:05:15.785987  2019-05-12 18:35:15.785987     30 min\n",
      "    5      study  2019-05-12 18:35:15.785987  2019-05-12 19:00:15.785987     25 min\n",
      "    5  breaktime  2019-05-12 19:00:15.785987  2019-05-12 19:05:15.785987      5 min\n",
      "    6      study  2019-05-12 19:05:15.785987  2019-05-12 19:30:15.785987     25 min\n",
      "    6  breaktime  2019-05-12 19:30:15.785987  2019-05-12 19:35:15.785987      5 min\n",
      "    7      study  2019-05-12 19:35:15.785987  2019-05-12 20:00:15.785987     25 min\n",
      "    7  breaktime  2019-05-12 20:00:15.785987  2019-05-12 20:05:15.785987      5 min\n",
      "    8      study  2019-05-12 20:05:15.785987  2019-05-12 20:30:15.785987     25 min\n",
      "    8  breaktime  2019-05-12 20:30:15.785987  2019-05-12 20:41:00.785987  10.75 min\n"
     ]
    }
   ],
   "source": [
    "print(df.to_string(index=False))"
   ]
  },
  {
   "cell_type": "code",
   "execution_count": 119,
   "metadata": {},
   "outputs": [],
   "source": [
    "df2 = df[['Task','Resource','Start','Finish']]"
   ]
  },
  {
   "cell_type": "code",
   "execution_count": 95,
   "metadata": {},
   "outputs": [],
   "source": [
    "import plotly"
   ]
  },
  {
   "cell_type": "code",
   "execution_count": 122,
   "metadata": {},
   "outputs": [],
   "source": [
    "# plotly.tools.set_credentials_file(username='ed.luschei', api_key='nAFQffJf6U3llxlr4zKp')"
   ]
  },
  {
   "cell_type": "code",
   "execution_count": 124,
   "metadata": {},
   "outputs": [],
   "source": [
    "import plotly.plotly as py\n",
    "import plotly.figure_factory as ff\n",
    "from plotly.offline import download_plotlyjs, init_notebook_mode, plot, iplot"
   ]
  },
  {
   "cell_type": "code",
   "execution_count": 125,
   "metadata": {},
   "outputs": [
    {
     "data": {
      "text/html": [
       "        <script type=\"text/javascript\">\n",
       "        window.PlotlyConfig = {MathJaxConfig: 'local'};\n",
       "        if (window.MathJax) {MathJax.Hub.Config({SVG: {font: \"STIX-Web\"}});}\n",
       "        if (typeof require !== 'undefined') {\n",
       "        require.undef(\"plotly\");\n",
       "        requirejs.config({\n",
       "            paths: {\n",
       "                'plotly': ['https://cdn.plot.ly/plotly-latest.min']\n",
       "            }\n",
       "        });\n",
       "        require(['plotly'], function(Plotly) {\n",
       "            window._Plotly = Plotly;\n",
       "        });\n",
       "        }\n",
       "        </script>\n",
       "        "
      ]
     },
     "metadata": {},
     "output_type": "display_data"
    }
   ],
   "source": [
    "init_notebook_mode(connected=True)"
   ]
  },
  {
   "cell_type": "code",
   "execution_count": 115,
   "metadata": {},
   "outputs": [],
   "source": [
    "colors = dict(study='rgb(34,139,34)', \n",
    "              breaktime='rgb(255,0,0)')"
   ]
  },
  {
   "cell_type": "code",
   "execution_count": 126,
   "metadata": {},
   "outputs": [
    {
     "data": {
      "text/html": [
       "<iframe id=\"igraph\" scrolling=\"no\" style=\"border:none;\" seamless=\"seamless\" src=\"https://plot.ly/~ed.luschei/4.embed\" height=\"600px\" width=\"900px\"></iframe>"
      ],
      "text/plain": [
       "<chart_studio.tools.PlotlyDisplay object>"
      ]
     },
     "execution_count": 126,
     "metadata": {},
     "output_type": "execute_result"
    }
   ],
   "source": [
    "fig = ff.create_gantt(df2, colors=colors, index_col='Resource', title='Study Schedule (Pomodoro)',\n",
    "                      show_colorbar=True, bar_width=0.5, showgrid_x=True, showgrid_y=True)\n",
    "py.iplot(fig, filename='pomodora-schedule')"
   ]
  },
  {
   "cell_type": "code",
   "execution_count": null,
   "metadata": {},
   "outputs": [],
   "source": []
  }
 ],
 "metadata": {
  "kernelspec": {
   "display_name": "venv",
   "language": "python",
   "name": "venv"
  },
  "language_info": {
   "codemirror_mode": {
    "name": "ipython",
    "version": 3
   },
   "file_extension": ".py",
   "mimetype": "text/x-python",
   "name": "python",
   "nbconvert_exporter": "python",
   "pygments_lexer": "ipython3",
   "version": "3.7.3"
  }
 },
 "nbformat": 4,
 "nbformat_minor": 2
}
